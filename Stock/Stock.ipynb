{
 "cells": [
  {
   "cell_type": "code",
   "execution_count": 2,
   "metadata": {},
   "outputs": [
    {
     "name": "stdout",
     "output_type": "stream",
     "text": [
      "Collecting fbprophet\n",
      "  Using cached https://files.pythonhosted.org/packages/9b/a1/fef4ce00acbc28e75c0d33f60c9777527c4295656903b00ac4c9525cef7f/fbprophet-0.4.post2.tar.gz\n",
      "Requirement already satisfied: Cython>=0.22 in /Users/Said/miniconda2/lib/python2.7/site-packages (from fbprophet)\n",
      "Requirement already satisfied: pystan>=2.14 in /Users/Said/miniconda2/lib/python2.7/site-packages (from fbprophet)\n",
      "Requirement already satisfied: numpy>=1.10.0 in /Users/Said/miniconda2/lib/python2.7/site-packages (from fbprophet)\n",
      "Requirement already satisfied: pandas>=0.20.1 in /Users/Said/miniconda2/lib/python2.7/site-packages (from fbprophet)\n",
      "Collecting matplotlib>=2.0.0 (from fbprophet)\n",
      "  Using cached https://files.pythonhosted.org/packages/23/16/8f83901b3094199078acd965657b9ee22604f33795fcb32a704566dd4cdf/matplotlib-2.2.3-cp27-cp27m-macosx_10_6_intel.macosx_10_9_intel.macosx_10_9_x86_64.macosx_10_10_intel.macosx_10_10_x86_64.whl\n",
      "Collecting lunardate>=0.1.5 (from fbprophet)\n",
      "  Using cached https://files.pythonhosted.org/packages/c6/d8/f382ddbf8af5026d22815cb3b7e706240c9aa056a1f1815a51754cfab365/lunardate-0.2.0-py2-none-any.whl\n",
      "Collecting convertdate>=2.1.2 (from fbprophet)\n",
      "  Using cached https://files.pythonhosted.org/packages/74/83/d0fa07078f4d4ae473a89d7d521aafc66d82641ea0af0ef04a47052e8f17/convertdate-2.1.3-py2.py3-none-any.whl\n",
      "Collecting holidays>=0.9.5 (from fbprophet)\n",
      "Collecting setuptools-git>=1.2 (from fbprophet)\n",
      "  Using cached https://files.pythonhosted.org/packages/05/97/dd99fa9c0d9627a7b3c103a00f1566d8193aca8d473884ed258cca82b06f/setuptools_git-1.2-py2.py3-none-any.whl\n",
      "Requirement already satisfied: python-dateutil>=2.5.0 in /Users/Said/miniconda2/lib/python2.7/site-packages (from pandas>=0.20.1->fbprophet)\n",
      "Requirement already satisfied: pytz>=2011k in /Users/Said/miniconda2/lib/python2.7/site-packages (from pandas>=0.20.1->fbprophet)\n",
      "Requirement already satisfied: subprocess32 in /Users/Said/miniconda2/lib/python2.7/site-packages (from matplotlib>=2.0.0->fbprophet)\n",
      "Requirement already satisfied: kiwisolver>=1.0.1 in /Users/Said/miniconda2/lib/python2.7/site-packages (from matplotlib>=2.0.0->fbprophet)\n",
      "Requirement already satisfied: six>=1.10 in /Users/Said/miniconda2/lib/python2.7/site-packages (from matplotlib>=2.0.0->fbprophet)\n",
      "Requirement already satisfied: pyparsing!=2.0.4,!=2.1.2,!=2.1.6,>=2.0.1 in /Users/Said/miniconda2/lib/python2.7/site-packages (from matplotlib>=2.0.0->fbprophet)\n",
      "Requirement already satisfied: cycler>=0.10 in /Users/Said/miniconda2/lib/python2.7/site-packages/cycler-0.10.0-py2.7.egg (from matplotlib>=2.0.0->fbprophet)\n",
      "Requirement already satisfied: backports.functools-lru-cache in /Users/Said/miniconda2/lib/python2.7/site-packages (from matplotlib>=2.0.0->fbprophet)\n",
      "Collecting ephem<3.8,>=3.7.5.3 (from convertdate>=2.1.2->fbprophet)\n",
      "Requirement already satisfied: setuptools in /Users/Said/miniconda2/lib/python2.7/site-packages (from kiwisolver>=1.0.1->matplotlib>=2.0.0->fbprophet)\n",
      "Building wheels for collected packages: fbprophet\n",
      "  Running setup.py bdist_wheel for fbprophet ... \u001b[?25lerror\n",
      "  Complete output from command /Users/Said/miniconda2/bin/python -u -c \"import setuptools, tokenize;__file__='/private/var/folders/ns/nrgptkc527s_th43rctkt8mh0000gn/T/pip-build-5SnlPy/fbprophet/setup.py';f=getattr(tokenize, 'open', open)(__file__);code=f.read().replace('\\r\\n', '\\n');f.close();exec(compile(code, __file__, 'exec'))\" bdist_wheel -d /var/folders/ns/nrgptkc527s_th43rctkt8mh0000gn/T/tmppTbeK2pip-wheel- --python-tag cp27:\n",
      "  running bdist_wheel\n",
      "  running build\n",
      "  running build_py\n",
      "  creating build\n",
      "  creating build/lib\n",
      "  creating build/lib/fbprophet\n",
      "  creating build/lib/fbprophet/stan_model\n",
      "  DIAGNOSTIC(S) FROM PARSER:\n",
      "  Warning: left-hand side variable (name=cp_idx) occurs on right-hand side of assignment, causing inefficient deep copy to avoid aliasing.\n",
      "  Warning: left-hand side variable (name=m_pr) occurs on right-hand side of assignment, causing inefficient deep copy to avoid aliasing.\n",
      "  \n",
      "  INFO:pystan:COMPILING THE C++ CODE FOR MODEL anon_model_861b75c6337e237650a61ae58c4385ef NOW.\n",
      "  error: command 'gcc' failed with exit status 1\n",
      "  \n",
      "  ----------------------------------------\n",
      "\u001b[31m  Failed building wheel for fbprophet\u001b[0m\n",
      "\u001b[?25h  Running setup.py clean for fbprophet\n",
      "Failed to build fbprophet\n",
      "Installing collected packages: matplotlib, lunardate, ephem, convertdate, holidays, setuptools-git, fbprophet\n",
      "  Found existing installation: matplotlib 1.5.3\n",
      "    Uninstalling matplotlib-1.5.3:\n",
      "      Successfully uninstalled matplotlib-1.5.3\n",
      "  Running setup.py install for fbprophet ... \u001b[?25lerror\n",
      "    Complete output from command /Users/Said/miniconda2/bin/python -u -c \"import setuptools, tokenize;__file__='/private/var/folders/ns/nrgptkc527s_th43rctkt8mh0000gn/T/pip-build-5SnlPy/fbprophet/setup.py';f=getattr(tokenize, 'open', open)(__file__);code=f.read().replace('\\r\\n', '\\n');f.close();exec(compile(code, __file__, 'exec'))\" install --record /var/folders/ns/nrgptkc527s_th43rctkt8mh0000gn/T/pip-WUB2zZ-record/install-record.txt --single-version-externally-managed --compile:\n",
      "    running install\n",
      "    running build\n",
      "    running build_py\n",
      "    creating build\n",
      "    creating build/lib\n",
      "    creating build/lib/fbprophet\n",
      "    creating build/lib/fbprophet/stan_model\n",
      "    DIAGNOSTIC(S) FROM PARSER:\n",
      "    Warning: left-hand side variable (name=cp_idx) occurs on right-hand side of assignment, causing inefficient deep copy to avoid aliasing.\n",
      "    Warning: left-hand side variable (name=m_pr) occurs on right-hand side of assignment, causing inefficient deep copy to avoid aliasing.\n",
      "    \n",
      "    INFO:pystan:COMPILING THE C++ CODE FOR MODEL anon_model_861b75c6337e237650a61ae58c4385ef NOW.\n",
      "    error: command 'gcc' failed with exit status 1\n",
      "    \n",
      "    ----------------------------------------\n",
      "\u001b[31mCommand \"/Users/Said/miniconda2/bin/python -u -c \"import setuptools, tokenize;__file__='/private/var/folders/ns/nrgptkc527s_th43rctkt8mh0000gn/T/pip-build-5SnlPy/fbprophet/setup.py';f=getattr(tokenize, 'open', open)(__file__);code=f.read().replace('\\r\\n', '\\n');f.close();exec(compile(code, __file__, 'exec'))\" install --record /var/folders/ns/nrgptkc527s_th43rctkt8mh0000gn/T/pip-WUB2zZ-record/install-record.txt --single-version-externally-managed --compile\" failed with error code 1 in /private/var/folders/ns/nrgptkc527s_th43rctkt8mh0000gn/T/pip-build-5SnlPy/fbprophet/\u001b[0m\n",
      "\u001b[33mYou are using pip version 9.0.1, however version 19.0.3 is available.\n",
      "You should consider upgrading via the 'pip install --upgrade pip' command.\u001b[0m\n",
      "\u001b[?25h"
     ]
    }
   ],
   "source": [
    "#!pip install fbprophet"
   ]
  },
  {
   "cell_type": "code",
   "execution_count": 3,
   "metadata": {},
   "outputs": [],
   "source": [
    "!source activate prophet"
   ]
  },
  {
   "cell_type": "code",
   "execution_count": 4,
   "metadata": {},
   "outputs": [],
   "source": [
    "import pandas as pd"
   ]
  },
  {
   "cell_type": "code",
   "execution_count": 5,
   "metadata": {},
   "outputs": [
    {
     "ename": "ImportError",
     "evalue": "No module named fbprophet",
     "output_type": "error",
     "traceback": [
      "\u001b[0;31m---------------------------------------------------------------------------\u001b[0m",
      "\u001b[0;31mImportError\u001b[0m                               Traceback (most recent call last)",
      "\u001b[0;32m<ipython-input-5-3dac74d0cfd4>\u001b[0m in \u001b[0;36m<module>\u001b[0;34m()\u001b[0m\n\u001b[0;32m----> 1\u001b[0;31m \u001b[0;32mfrom\u001b[0m \u001b[0mfbprophet\u001b[0m \u001b[0;32mimport\u001b[0m \u001b[0mProphet\u001b[0m\u001b[0;34m\u001b[0m\u001b[0m\n\u001b[0m",
      "\u001b[0;31mImportError\u001b[0m: No module named fbprophet"
     ]
    }
   ],
   "source": [
    "from fbprophet import Prophet"
   ]
  },
  {
   "cell_type": "code",
   "execution_count": 6,
   "metadata": {},
   "outputs": [
    {
     "ename": "ImportError",
     "evalue": "No module named prophet",
     "output_type": "error",
     "traceback": [
      "\u001b[0;31m---------------------------------------------------------------------------\u001b[0m",
      "\u001b[0;31mImportError\u001b[0m                               Traceback (most recent call last)",
      "\u001b[0;32m<ipython-input-6-9ddd79d25837>\u001b[0m in \u001b[0;36m<module>\u001b[0;34m()\u001b[0m\n\u001b[0;32m----> 1\u001b[0;31m \u001b[0;32mimport\u001b[0m \u001b[0mprophet\u001b[0m\u001b[0;34m\u001b[0m\u001b[0m\n\u001b[0m",
      "\u001b[0;31mImportError\u001b[0m: No module named prophet"
     ]
    }
   ],
   "source": [
    "import prophet"
   ]
  },
  {
   "cell_type": "code",
   "execution_count": null,
   "metadata": {},
   "outputs": [],
   "source": []
  }
 ],
 "metadata": {
  "kernelspec": {
   "display_name": "Python 3",
   "language": "python",
   "name": "python3"
  },
  "language_info": {
   "codemirror_mode": {
    "name": "ipython",
    "version": 2
   },
   "file_extension": ".py",
   "mimetype": "text/x-python",
   "name": "python",
   "nbconvert_exporter": "python",
   "pygments_lexer": "ipython2",
   "version": "2.7.12"
  }
 },
 "nbformat": 4,
 "nbformat_minor": 2
}
